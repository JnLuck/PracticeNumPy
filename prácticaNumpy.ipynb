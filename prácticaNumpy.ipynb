{
  "nbformat": 4,
  "nbformat_minor": 0,
  "metadata": {
    "colab": {
      "provenance": [],
      "authorship_tag": "ABX9TyNvImqzNJVAhgh73N0yJ3Gk",
      "include_colab_link": true
    },
    "kernelspec": {
      "name": "python3",
      "display_name": "Python 3"
    },
    "language_info": {
      "name": "python"
    }
  },
  "cells": [
    {
      "cell_type": "markdown",
      "metadata": {
        "id": "view-in-github",
        "colab_type": "text"
      },
      "source": [
        "<a href=\"https://colab.research.google.com/github/JnLuck/PracticeNumPy/blob/main/pr%C3%A1cticaNumpy.ipynb\" target=\"_parent\"><img src=\"https://colab.research.google.com/assets/colab-badge.svg\" alt=\"Open In Colab\"/></a>"
      ]
    },
    {
      "cell_type": "markdown",
      "source": [
        "**Importar NumPy**"
      ],
      "metadata": {
        "id": "zWIgXKcnPdYG"
      }
    },
    {
      "cell_type": "code",
      "execution_count": 1,
      "metadata": {
        "id": "mxY7GZ6iO9x3"
      },
      "outputs": [],
      "source": [
        "#Importamos a libreria numpy de python\n",
        "import numpy as np"
      ]
    },
    {
      "cell_type": "markdown",
      "source": [
        "**1. Creación de Arrays**"
      ],
      "metadata": {
        "id": "p4IB-OEdPihz"
      }
    },
    {
      "cell_type": "markdown",
      "source": [
        "**1.1**"
      ],
      "metadata": {
        "id": "u73bRuoXda09"
      }
    },
    {
      "cell_type": "code",
      "source": [
        "#Crea un array unidimensional (vector) con 5 elementos enteros de tu elección.\n",
        "vector = np.array([7, 12, 17, 27, 30])\n",
        "\n",
        "# Mostrar el vector\n",
        "print(vector)"
      ],
      "metadata": {
        "colab": {
          "base_uri": "https://localhost:8080/"
        },
        "id": "kTdQfBBqPLNO",
        "outputId": "8286fc1a-77a9-4ff4-a38b-a8fc731f3f92"
      },
      "execution_count": 7,
      "outputs": [
        {
          "output_type": "stream",
          "name": "stdout",
          "text": [
            "[ 7 12 17 27 30]\n"
          ]
        }
      ]
    },
    {
      "cell_type": "markdown",
      "source": [
        "**1.2**"
      ],
      "metadata": {
        "id": "xmsZ61s1ddS0"
      }
    },
    {
      "cell_type": "code",
      "source": [
        "#Crea una matriz bidimensional (matriz) de tamaño 3x3 con valores enteros consecutivos.\n",
        "matriz = np.arange(1, 10).reshape(3, 3)\n",
        "\n",
        "# Mostrar la matriz\n",
        "print(matriz)"
      ],
      "metadata": {
        "colab": {
          "base_uri": "https://localhost:8080/"
        },
        "id": "IqzTr9CyQPSK",
        "outputId": "4102c391-7491-44d5-f8e0-cbf58a6e629e"
      },
      "execution_count": 6,
      "outputs": [
        {
          "output_type": "stream",
          "name": "stdout",
          "text": [
            "[[1 2 3]\n",
            " [4 5 6]\n",
            " [7 8 9]]\n"
          ]
        }
      ]
    },
    {
      "cell_type": "markdown",
      "source": [
        "**1.3**"
      ],
      "metadata": {
        "id": "G_F4flqOdgfs"
      }
    },
    {
      "cell_type": "code",
      "source": [
        "#Utiliza la función np.zeros() para crear una matriz de tamaño 2x4 llena de ceros.\n",
        "matriz_z = np.zeros([2,4],int)\n",
        "\n",
        "# Mostrar la matriz\n",
        "print(matriz_z)"
      ],
      "metadata": {
        "colab": {
          "base_uri": "https://localhost:8080/"
        },
        "id": "RwQ2Ql_0QbtK",
        "outputId": "a46726f6-d65b-49c0-bde4-3224b36f5d23"
      },
      "execution_count": 11,
      "outputs": [
        {
          "output_type": "stream",
          "name": "stdout",
          "text": [
            "[[0 0 0 0]\n",
            " [0 0 0 0]]\n"
          ]
        }
      ]
    },
    {
      "cell_type": "markdown",
      "source": [
        "**1.4**"
      ],
      "metadata": {
        "id": "dZJej6xTdjQd"
      }
    },
    {
      "cell_type": "code",
      "source": [
        "#Utiliza la función np.ones() para crear una matriz de tamaño 3x2 llena de unos.\n",
        "matriz_one = np.ones([3,2],int)\n",
        "\n",
        "# Mostrar la matriz\n",
        "print(matriz_one)"
      ],
      "metadata": {
        "colab": {
          "base_uri": "https://localhost:8080/"
        },
        "id": "BF48XDWcQd7r",
        "outputId": "39efae2e-a0c9-4f1d-ce0b-92cf1802810f"
      },
      "execution_count": 12,
      "outputs": [
        {
          "output_type": "stream",
          "name": "stdout",
          "text": [
            "[[1 1]\n",
            " [1 1]\n",
            " [1 1]]\n"
          ]
        }
      ]
    },
    {
      "cell_type": "markdown",
      "source": [
        "**1.5**"
      ],
      "metadata": {
        "id": "tTOVH0bZdryg"
      }
    },
    {
      "cell_type": "code",
      "source": [
        "#Utiliza la función np.random.randint() para crear una matriz\n",
        "#de tamaño 4x4 con números enteros aleatorios entre 0 y 10\n",
        "matriz_random = np.random.randint(0, 11, size=(4, 4))\n",
        "\n",
        "# Mostrar la matriz\n",
        "print(matriz_random)"
      ],
      "metadata": {
        "colab": {
          "base_uri": "https://localhost:8080/"
        },
        "id": "xPL1HecoSk2-",
        "outputId": "610a734b-5ee2-4db9-b0e5-98c3df180dbd"
      },
      "execution_count": 14,
      "outputs": [
        {
          "output_type": "stream",
          "name": "stdout",
          "text": [
            "[[6 4 3 6]\n",
            " [7 3 4 9]\n",
            " [6 6 6 0]\n",
            " [3 4 7 6]]\n"
          ]
        }
      ]
    },
    {
      "cell_type": "markdown",
      "source": [
        "**2. Acceso a Elementos**"
      ],
      "metadata": {
        "id": "iordS_ghTJeo"
      }
    },
    {
      "cell_type": "markdown",
      "source": [
        "**2.1**"
      ],
      "metadata": {
        "id": "aiC7njOEdxjd"
      }
    },
    {
      "cell_type": "code",
      "source": [
        "#Accede al tercer elemento del vector creado en el paso 1.\n",
        "# Mostrar el vector\n",
        "print(vector)\n",
        "print()\n",
        "\n",
        "tercer_elemento = vector[2]\n",
        "\n",
        "# Mostrar el tercer elemento\n",
        "print(\"El tercer elemento del vector es:\", tercer_elemento)"
      ],
      "metadata": {
        "colab": {
          "base_uri": "https://localhost:8080/"
        },
        "id": "aAh6Y-EfTHlT",
        "outputId": "2f9f845a-69b1-4e02-fb17-2a3d2468c7e9"
      },
      "execution_count": 75,
      "outputs": [
        {
          "output_type": "stream",
          "name": "stdout",
          "text": [
            "[ 7 12 17 27 30]\n",
            "\n",
            "El tercer elemento del vector es: 17\n"
          ]
        }
      ]
    },
    {
      "cell_type": "markdown",
      "source": [
        "**2.2**"
      ],
      "metadata": {
        "id": "bfGqjsqHdzX1"
      }
    },
    {
      "cell_type": "code",
      "source": [
        "#Accede al elemento en la segunda fila y segunda columna de la matriz creada en el paso 2.\n",
        "print(matriz)\n",
        "print()\n",
        "\n",
        "elemento = matriz[1, 1]  # Fila 1, columna 1 (recordando que los índices comienzan en 0)\n",
        "\n",
        "# Mostrar el elemento seleccionado\n",
        "print(\"Elemento:\", elemento)"
      ],
      "metadata": {
        "colab": {
          "base_uri": "https://localhost:8080/"
        },
        "id": "93TOrTGxTRGF",
        "outputId": "e4588a72-4a00-4b36-8fb1-29395c85336c"
      },
      "execution_count": 71,
      "outputs": [
        {
          "output_type": "stream",
          "name": "stdout",
          "text": [
            "[[1 2 3]\n",
            " [4 5 6]\n",
            " [7 8 9]]\n",
            "\n",
            "Elemento: 5\n"
          ]
        }
      ]
    },
    {
      "cell_type": "markdown",
      "source": [
        "**3. Propiedades de los Arrays**"
      ],
      "metadata": {
        "id": "9RaiUjBGUlwM"
      }
    },
    {
      "cell_type": "markdown",
      "source": [
        "**3.1**"
      ],
      "metadata": {
        "id": "iiCC1-8md3-O"
      }
    },
    {
      "cell_type": "code",
      "source": [
        "#Utiliza el atributo ndim para verificar la cantidad de dimensiones\n",
        "#de la matriz creada en el paso 2\n",
        "print(matriz)\n",
        "print()\n",
        "\n",
        "numero_de_dimensiones = matriz.ndim\n",
        "\n",
        "# Mostrar la cantidad de dimensiones de la matriz\n",
        "print(\"Número de dimensiones:\", numero_de_dimensiones)"
      ],
      "metadata": {
        "colab": {
          "base_uri": "https://localhost:8080/"
        },
        "id": "sHI-2G7DUmXq",
        "outputId": "3ef488b1-9f86-4e74-fa3a-66cb057a91ad"
      },
      "execution_count": 70,
      "outputs": [
        {
          "output_type": "stream",
          "name": "stdout",
          "text": [
            "[[1 2 3]\n",
            " [4 5 6]\n",
            " [7 8 9]]\n",
            "\n",
            "Número de dimensiones: 2\n"
          ]
        }
      ]
    },
    {
      "cell_type": "markdown",
      "source": [
        "**3.2**"
      ],
      "metadata": {
        "id": "_PnDdQfNd5sg"
      }
    },
    {
      "cell_type": "code",
      "source": [
        "#Utiliza el atributo shape para obtener la forma de la matriz creada en el paso 2.\n",
        "print(matriz)\n",
        "print()\n",
        "\n",
        "forma = matriz.shape\n",
        "\n",
        "# Mostrar la forma de la matriz\n",
        "print(\"Forma de la matriz:\", forma)\n"
      ],
      "metadata": {
        "colab": {
          "base_uri": "https://localhost:8080/"
        },
        "id": "-zIe4yNNVUsj",
        "outputId": "4754ad33-a256-4045-bc4a-a3667b11be49"
      },
      "execution_count": 69,
      "outputs": [
        {
          "output_type": "stream",
          "name": "stdout",
          "text": [
            "[[1 2 3]\n",
            " [4 5 6]\n",
            " [7 8 9]]\n",
            "\n",
            "Forma de la matriz: (3, 3)\n"
          ]
        }
      ]
    },
    {
      "cell_type": "markdown",
      "source": [
        "**3.3**"
      ],
      "metadata": {
        "id": "Ovo9zgrdd7On"
      }
    },
    {
      "cell_type": "code",
      "source": [
        "#Utiliza el atributo size para obtener el tamaño total de la matriz creada en el paso 2.\n",
        "print(matriz)\n",
        "print()\n",
        "\n",
        "tamaño_total = matriz.size\n",
        "\n",
        "# Mostrar el tamaño total de la matriz\n",
        "print(\"Tamaño total:\", tamaño_total)"
      ],
      "metadata": {
        "colab": {
          "base_uri": "https://localhost:8080/"
        },
        "id": "H3NbXNmeVyix",
        "outputId": "e7706260-d4d5-4bb8-942a-f08fdb1e0730"
      },
      "execution_count": 68,
      "outputs": [
        {
          "output_type": "stream",
          "name": "stdout",
          "text": [
            "[[1 2 3]\n",
            " [4 5 6]\n",
            " [7 8 9]]\n",
            "\n",
            "Tamaño total: 9\n"
          ]
        }
      ]
    },
    {
      "cell_type": "markdown",
      "source": [
        "**4. Operaciones Básicas**"
      ],
      "metadata": {
        "id": "RHNrG8MTV6_y"
      }
    },
    {
      "cell_type": "markdown",
      "source": [
        "**4.1**"
      ],
      "metadata": {
        "id": "b7PIDyn9eCOF"
      }
    },
    {
      "cell_type": "code",
      "source": [
        "#Suma dos matrices de tamaño 2x2 con valores aleatorios entre 0 y 10.\n",
        "matriz1 = np.random.randint(0, 11, size=(2, 2))\n",
        "matriz2 = np.random.randint(0, 11, size=(2, 2))\n",
        "\n",
        "# Sumar las dos matrices\n",
        "suma_matrices = matriz1 + matriz2\n",
        "\n",
        "# Mostrar las matrices y su suma\n",
        "print(\"Matriz 1:\")\n",
        "print(matriz1)\n",
        "print()\n",
        "print(\"Matriz 2:\")\n",
        "print(matriz2)\n",
        "print()\n",
        "print(\"Suma de las matrices:\")\n",
        "print(suma_matrices)"
      ],
      "metadata": {
        "colab": {
          "base_uri": "https://localhost:8080/"
        },
        "id": "HC9FP8jeV7lT",
        "outputId": "53dcf24f-3443-40aa-cdb2-cbc1d1c3c707"
      },
      "execution_count": 33,
      "outputs": [
        {
          "output_type": "stream",
          "name": "stdout",
          "text": [
            "Matriz 1:\n",
            "[[5 2]\n",
            " [1 5]]\n",
            "\n",
            "Matriz 2:\n",
            "[[4 1]\n",
            " [8 2]]\n",
            "\n",
            "Suma de las matrices:\n",
            "[[9 3]\n",
            " [9 7]]\n"
          ]
        }
      ]
    },
    {
      "cell_type": "markdown",
      "source": [
        "**4.2**"
      ],
      "metadata": {
        "id": "ZefDBB4keEbN"
      }
    },
    {
      "cell_type": "code",
      "source": [
        "#Multiplica dos matrices de tamaño 3x2 y 2x3 respectivamente.\n",
        "# Crear una matriz de tamaño 3x2 con valores aleatorios\n",
        "matriz1 = np.array([[1,2],[3,4],[5,6]])\n",
        "\n",
        "# Crear una matriz de tamaño 2x3 con valores aleatorios\n",
        "matriz2 = np.array([[7,8,9],[10,11,12]])\n",
        "\n",
        "# Multiplicar las dos matrices\n",
        "resultado_multiplicacion = np.dot(matriz1, matriz2)\n",
        "\n",
        "# Mostrar las matrices y el resultado de la multiplicación\n",
        "print(\"Matriz 1 (3x2):\")\n",
        "print(matriz1)\n",
        "print()\n",
        "print(\"Matriz 2 (2x3):\")\n",
        "print(matriz2)\n",
        "print()\n",
        "print(\"Resultado de la multiplicación (3x3):\")\n",
        "print(resultado_multiplicacion)"
      ],
      "metadata": {
        "colab": {
          "base_uri": "https://localhost:8080/"
        },
        "id": "ccN5vDKKV-pS",
        "outputId": "3cde442e-7f27-4e54-e352-5b3010ba5c85"
      },
      "execution_count": 41,
      "outputs": [
        {
          "output_type": "stream",
          "name": "stdout",
          "text": [
            "Matriz 1 (3x2):\n",
            "[[1 2]\n",
            " [3 4]\n",
            " [5 6]]\n",
            "\n",
            "Matriz 2 (2x3):\n",
            "[[ 7  8  9]\n",
            " [10 11 12]]\n",
            "\n",
            "Resultado de la multiplicación (3x3):\n",
            "[[ 27  30  33]\n",
            " [ 61  68  75]\n",
            " [ 95 106 117]]\n"
          ]
        }
      ]
    },
    {
      "cell_type": "markdown",
      "source": [
        "**4.3**"
      ],
      "metadata": {
        "id": "xjCTcni5eGBi"
      }
    },
    {
      "cell_type": "code",
      "source": [
        "#Divide una matriz de tamaño 2x2 por otra matriz de tamaño 2x2,utilizando\n",
        "#tanto la división por elementos como la multiplicación por la inversa.\n",
        "matriz1 = np.random.randint(1, 11, size=(2, 2))\n",
        "matriz2 = np.random.randint(1, 11, size=(2, 2))\n",
        "\n",
        "# División por elementos\n",
        "division_elementos = matriz1 / matriz2\n",
        "\n",
        "# División mediante multiplicación por la inversa de la segunda matriz\n",
        "# Comprobar primero si la matriz es invertible\n",
        "if np.linalg.det(matriz2) != 0:\n",
        "    inversa_matriz2 = np.linalg.inv(matriz2)\n",
        "    division_inversa = np.dot(matriz1, inversa_matriz2)\n",
        "else:\n",
        "    division_inversa = \"La matriz 2 no es invertible\"\n",
        "\n",
        "# Mostrar resultados\n",
        "print(\"Matriz 1:\")\n",
        "print(matriz1)\n",
        "print()\n",
        "print(\"Matriz 2:\")\n",
        "print(matriz2)\n",
        "print()\n",
        "print(\"División por elementos:\")\n",
        "print(division_elementos)\n",
        "print()\n",
        "print(\"División por la inversa de la matriz 2:\")\n",
        "print(division_inversa)"
      ],
      "metadata": {
        "colab": {
          "base_uri": "https://localhost:8080/"
        },
        "id": "FgPDQO2ZWBZK",
        "outputId": "840711c7-e244-42da-de1f-9ec6246545a8"
      },
      "execution_count": 32,
      "outputs": [
        {
          "output_type": "stream",
          "name": "stdout",
          "text": [
            "Matriz 1:\n",
            "[[5 9]\n",
            " [7 6]]\n",
            "\n",
            "Matriz 2:\n",
            "[[ 6 10]\n",
            " [ 3  2]]\n",
            "\n",
            "División por elementos:\n",
            "[[0.83333333 0.9       ]\n",
            " [2.33333333 3.        ]]\n",
            "\n",
            "División por la inversa de la matriz 2:\n",
            "[[ 0.94444444 -0.22222222]\n",
            " [ 0.22222222  1.88888889]]\n"
          ]
        }
      ]
    },
    {
      "cell_type": "markdown",
      "source": [
        "**5. Manipulación de Arrays**"
      ],
      "metadata": {
        "id": "Op3yBKx_Wkg-"
      }
    },
    {
      "cell_type": "markdown",
      "source": [
        "**5.1**"
      ],
      "metadata": {
        "id": "q-uphEm9eJ7q"
      }
    },
    {
      "cell_type": "code",
      "source": [
        "#Utiliza la función reshape() para convertir el vector creado en el paso 2\n",
        "#en una matriz de tamaño 9x1.\n",
        "print(matriz)\n",
        "print()\n",
        "\n",
        "matriz_9x1 = matriz.reshape((9, 1))\n",
        "\n",
        "# Mostrar la nueva matriz de tamaño 9x1\n",
        "print(\"Matriz convertida a tamaño 9x1:\")\n",
        "print(matriz_9x1)"
      ],
      "metadata": {
        "colab": {
          "base_uri": "https://localhost:8080/"
        },
        "id": "fpjBIoVzWk8V",
        "outputId": "a57a523b-692f-4783-ac91-5b3ed9a3142e"
      },
      "execution_count": 58,
      "outputs": [
        {
          "output_type": "stream",
          "name": "stdout",
          "text": [
            "[[1 2 3]\n",
            " [4 5 6]\n",
            " [7 8 9]]\n",
            "\n",
            "Matriz convertida a tamaño 9x1:\n",
            "[[1]\n",
            " [2]\n",
            " [3]\n",
            " [4]\n",
            " [5]\n",
            " [6]\n",
            " [7]\n",
            " [8]\n",
            " [9]]\n"
          ]
        }
      ]
    },
    {
      "cell_type": "markdown",
      "source": [
        "**5.2**"
      ],
      "metadata": {
        "id": "fpOeMmHKeMAb"
      }
    },
    {
      "cell_type": "code",
      "source": [
        "#Utiliza la función flatten() para convertir la matriz creada en el paso 2\n",
        "#en un vector unidimensional.\n",
        "print(matriz)\n",
        "print()\n",
        "\n",
        "vector_unidimensional = matriz.flatten()\n",
        "\n",
        "# Mostrar el vector resultante\n",
        "print(\"Vector unidimensional:\")\n",
        "print(vector_unidimensional)"
      ],
      "metadata": {
        "colab": {
          "base_uri": "https://localhost:8080/"
        },
        "id": "ZImBsXXnWpsd",
        "outputId": "87d5209e-aba4-44f8-9bfd-d3fecd5f7cfd"
      },
      "execution_count": 55,
      "outputs": [
        {
          "output_type": "stream",
          "name": "stdout",
          "text": [
            "[[1 2 3]\n",
            " [4 5 6]\n",
            " [7 8 9]]\n",
            "\n",
            "Vector unidimensional:\n",
            "[1 2 3 4 5 6 7 8 9]\n"
          ]
        }
      ]
    },
    {
      "cell_type": "markdown",
      "source": [
        "**6. Operaciones Estadísticas**"
      ],
      "metadata": {
        "id": "RDTigmpwW8YV"
      }
    },
    {
      "cell_type": "markdown",
      "source": [
        "**6.1**"
      ],
      "metadata": {
        "id": "meoyEXb_eRQD"
      }
    },
    {
      "cell_type": "code",
      "source": [
        "# Calcula la suma de todos los elementos de la matriz creada en el paso 2.\n",
        "print(matriz)\n",
        "print()\n",
        "\n",
        "suma_elementos = matriz.sum()\n",
        "\n",
        "# Mostrar la suma de los elementos\n",
        "print(\"Suma:\", suma_elementos)"
      ],
      "metadata": {
        "colab": {
          "base_uri": "https://localhost:8080/"
        },
        "id": "gFouEGHLW8xW",
        "outputId": "ca84dc47-9924-4a9e-e47f-18196ab0c1fe"
      },
      "execution_count": 57,
      "outputs": [
        {
          "output_type": "stream",
          "name": "stdout",
          "text": [
            "[[1 2 3]\n",
            " [4 5 6]\n",
            " [7 8 9]]\n",
            "\n",
            "Suma: 45\n"
          ]
        }
      ]
    },
    {
      "cell_type": "markdown",
      "source": [
        "**6.2**"
      ],
      "metadata": {
        "id": "pLXkzJ_ceTTi"
      }
    },
    {
      "cell_type": "code",
      "source": [
        "#Calcula la media de cada fila de la matriz creada en el paso 2.\n",
        "print(matriz)\n",
        "print()\n",
        "\n",
        "# Calcular la media de cada fila de la matriz\n",
        "media_filas = matriz.mean(axis=1)\n",
        "\n",
        "# Mostrar la media de cada fila\n",
        "print(\"Media de cada fila:\")\n",
        "print(media_filas)"
      ],
      "metadata": {
        "colab": {
          "base_uri": "https://localhost:8080/"
        },
        "id": "V91ZW8tmXBo0",
        "outputId": "a44066bd-390f-4547-d5f4-12885ef732b2"
      },
      "execution_count": 59,
      "outputs": [
        {
          "output_type": "stream",
          "name": "stdout",
          "text": [
            "[[1 2 3]\n",
            " [4 5 6]\n",
            " [7 8 9]]\n",
            "\n",
            "Media de cada fila:\n",
            "[2. 5. 8.]\n"
          ]
        }
      ]
    },
    {
      "cell_type": "markdown",
      "source": [
        "**7. Indexación y Rebanado**"
      ],
      "metadata": {
        "id": "ul2wGLhkaQ99"
      }
    },
    {
      "cell_type": "markdown",
      "source": [
        "**7.1**"
      ],
      "metadata": {
        "id": "zKTChcPxeXNS"
      }
    },
    {
      "cell_type": "code",
      "source": [
        "#Imprime la primera fila de la matriz creada en el paso 2.\n",
        "print(matriz)\n",
        "print()\n",
        "\n",
        "# Imprimir la primera fila de la matriz\n",
        "print(\"Primera fila de la matriz:\")\n",
        "print(matriz[0])"
      ],
      "metadata": {
        "colab": {
          "base_uri": "https://localhost:8080/"
        },
        "id": "1ByXULr2aRZz",
        "outputId": "714a6a30-4fcb-4ef2-acba-5e51ad924d0c"
      },
      "execution_count": 62,
      "outputs": [
        {
          "output_type": "stream",
          "name": "stdout",
          "text": [
            "[[1 2 3]\n",
            " [4 5 6]\n",
            " [7 8 9]]\n",
            "\n",
            "Primera fila de la matriz:\n",
            "[1 2 3]\n"
          ]
        }
      ]
    },
    {
      "cell_type": "markdown",
      "source": [
        "**7.2**"
      ],
      "metadata": {
        "id": "lWV5CKBceZlS"
      }
    },
    {
      "cell_type": "code",
      "source": [
        "#Imprime las primeras dos columnas de la matriz creada en el paso 2.\n",
        "print(matriz)\n",
        "print()\n",
        "\n",
        "# Imprimir las primeras dos columnas de la matriz\n",
        "print(\"Primeras dos columnas de la matriz:\")\n",
        "print(matriz[:, :2])"
      ],
      "metadata": {
        "colab": {
          "base_uri": "https://localhost:8080/"
        },
        "id": "miu77_LZaWCZ",
        "outputId": "7c25c735-db20-4ec0-866c-8cf4c29a54f5"
      },
      "execution_count": 63,
      "outputs": [
        {
          "output_type": "stream",
          "name": "stdout",
          "text": [
            "[[1 2 3]\n",
            " [4 5 6]\n",
            " [7 8 9]]\n",
            "\n",
            "Primeras dos columnas de la matriz:\n",
            "[[1 2]\n",
            " [4 5]\n",
            " [7 8]]\n"
          ]
        }
      ]
    },
    {
      "cell_type": "markdown",
      "source": [
        "**8. Ejercicio Adicional**"
      ],
      "metadata": {
        "id": "KyvruDW9bmHy"
      }
    },
    {
      "cell_type": "markdown",
      "source": [
        "**8.1**"
      ],
      "metadata": {
        "id": "en9x_HYjec-r"
      }
    },
    {
      "cell_type": "code",
      "source": [
        "#Escribe un código para encontrar el valor máximo y mínimo de la matriz,\n",
        "#así como su posición."
      ],
      "metadata": {
        "colab": {
          "base_uri": "https://localhost:8080/"
        },
        "id": "a09D7uiqbqwm",
        "outputId": "59f11cc4-78b1-445a-e0af-aef870310a84"
      },
      "execution_count": 64,
      "outputs": [
        {
          "output_type": "stream",
          "name": "stdout",
          "text": [
            "Matriz de 4x4 con valores flotantes aleatorios:\n",
            "[[0.66639291 0.66275765 0.25216839 0.85657232]\n",
            " [0.85959221 0.00953036 0.88645488 0.90521861]\n",
            " [0.50153767 0.88428396 0.85490067 0.96857272]\n",
            " [0.0687318  0.26920747 0.44597335 0.47103154]]\n"
          ]
        }
      ]
    },
    {
      "cell_type": "markdown",
      "source": [
        "**8.2**"
      ],
      "metadata": {
        "id": "PM_QnpOeefAL"
      }
    },
    {
      "cell_type": "code",
      "source": [
        "#Define una matriz de tamaño 4x4 con valores aleatorios\n",
        "# Mostrar la matriz\n",
        "print(\"Matriz de 4x4 con valores aleatorios:\")\n",
        "print(matriz_aleatoria)\n",
        "print()\n",
        "# Encontrar el valor máximo y su posición\n",
        "valor_maximo = np.max(matriz_aleatoria)\n",
        "posicion_maximo = np.unravel_index(np.argmax(matriz_aleatoria), matriz_aleatoria.shape)\n",
        "\n",
        "# Encontrar el valor mínimo y su posición\n",
        "valor_minimo = np.min(matriz_aleatoria)\n",
        "posicion_minimo = np.unravel_index(np.argmin(matriz_aleatoria), matriz_aleatoria.shape)\n",
        "\n",
        "# Mostrar los valores y posiciones\n",
        "print(f\"El valor máximo es {valor_maximo} y se encuentra en la posición {posicion_maximo}\")\n",
        "print(f\"El valor mínimo es {valor_minimo} y se encuentra en la posición {posicion_minimo}\")"
      ],
      "metadata": {
        "colab": {
          "base_uri": "https://localhost:8080/"
        },
        "id": "iBcs10ihbms3",
        "outputId": "5c935f85-4066-48ac-b5ac-d55f40c760b2"
      },
      "execution_count": 67,
      "outputs": [
        {
          "output_type": "stream",
          "name": "stdout",
          "text": [
            "Matriz de 4x4 con valores aleatorios:\n",
            "[[0.66639291 0.66275765 0.25216839 0.85657232]\n",
            " [0.85959221 0.00953036 0.88645488 0.90521861]\n",
            " [0.50153767 0.88428396 0.85490067 0.96857272]\n",
            " [0.0687318  0.26920747 0.44597335 0.47103154]]\n",
            "\n",
            "El valor máximo es 0.9685727208073673 y se encuentra en la posición (2, 3)\n",
            "El valor mínimo es 0.0095303604819299 y se encuentra en la posición (1, 1)\n"
          ]
        }
      ]
    }
  ]
}